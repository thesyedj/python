{
  "nbformat": 4,
  "nbformat_minor": 0,
  "metadata": {
    "colab": {
      "name": "13-12-19.ipynb",
      "provenance": [],
      "collapsed_sections": []
    },
    "kernelspec": {
      "name": "python3",
      "display_name": "Python 3"
    }
  },
  "cells": [
    {
      "cell_type": "code",
      "metadata": {
        "id": "geusxmBSWGCB",
        "colab_type": "code",
        "colab": {}
      },
      "source": [
        ""
      ],
      "execution_count": 0,
      "outputs": []
    },
    {
      "cell_type": "markdown",
      "metadata": {
        "id": "cSZh1GLTZk02",
        "colab_type": "text"
      },
      "source": [
        "#markdown\n",
        "##markdown\n",
        "###markdown\n",
        "# insert site [SITE](https://login.gitam.edu/Login.aspx)\n",
        "# insert image \n",
        "![site](https://image.shutterstock.com/image-photo/bright-spring-view-cameo-island-600w-1048185397.jpg)\n",
        "# Python basics\n",
        "### Python is easy to learn.\n",
        "###pyhton is a begineers language\n"
      ]
    },
    {
      "cell_type": "markdown",
      "metadata": {
        "id": "b9soDus1dzSR",
        "colab_type": "text"
      },
      "source": [
        "# creating order list\n",
        "1.abs\n",
        "2.hsdf\n",
        "    1.a\n",
        "    2.b\n",
        "[]\n",
        "# unordered list\n",
        "1.abs\n",
        "2.hshsh\n",
        "3.ggtdgdgdd\n",
        "\n",
        "# bold and italic\n",
        "**BOLD**\n",
        "\n",
        "*ITALIC*\n",
        "\n"
      ]
    },
    {
      "cell_type": "code",
      "metadata": {
        "id": "7sAbEF__f60Z",
        "colab_type": "code",
        "outputId": "c0db72a8-dc86-4b2b-c1d5-6460a2a93483",
        "colab": {
          "base_uri": "https://localhost:8080/",
          "height": 34
        }
      },
      "source": [
        "print(\"HELLO WORLD\")\n"
      ],
      "execution_count": 0,
      "outputs": [
        {
          "output_type": "stream",
          "text": [
            "HELLO WORLD\n"
          ],
          "name": "stdout"
        }
      ]
    },
    {
      "cell_type": "code",
      "metadata": {
        "id": "P3b63keKgB5C",
        "colab_type": "code",
        "outputId": "2cdaf784-e866-4ee2-a619-ca33b515baa7",
        "colab": {
          "base_uri": "https://localhost:8080/",
          "height": 34
        }
      },
      "source": [
        "#Variable creation\n",
        "x=10\n",
        "y=20\n",
        "x+y "
      ],
      "execution_count": 0,
      "outputs": [
        {
          "output_type": "execute_result",
          "data": {
            "text/plain": [
              "30"
            ]
          },
          "metadata": {
            "tags": []
          },
          "execution_count": 8
        }
      ]
    },
    {
      "cell_type": "markdown",
      "metadata": {
        "id": "0hmMagPnhXu3",
        "colab_type": "text"
      },
      "source": [
        "# Rules for variable\n",
        "- name should begin with a character\n",
        "- no special characters allowed except underscore (_)\n"
      ]
    },
    {
      "cell_type": "code",
      "metadata": {
        "id": "v9lOTdRUiU-D",
        "colab_type": "code",
        "outputId": "bcc13587-b8e7-42a3-9e7e-e0318476f879",
        "colab": {
          "base_uri": "https://localhost:8080/",
          "height": 34
        }
      },
      "source": [
        "name = \"junaid\"\n",
        "age = 20\n",
        "print(\"my name is:\",name ,\"my age is \",age)"
      ],
      "execution_count": 0,
      "outputs": [
        {
          "output_type": "stream",
          "text": [
            "my name is: junaid my age is  20\n"
          ],
          "name": "stdout"
        }
      ]
    },
    {
      "cell_type": "code",
      "metadata": {
        "id": "eXx88wGWjD5d",
        "colab_type": "code",
        "outputId": "afbb4481-c2d6-4fa2-e70b-b574fee8020c",
        "colab": {
          "base_uri": "https://localhost:8080/",
          "height": 68
        }
      },
      "source": [
        "name = input (\"**Enter  name**\")\n",
        "age= int(input (\"enter age\"))\n",
        "print(\"Your name is:\",name, \"Your age is:\",age)"
      ],
      "execution_count": 0,
      "outputs": [
        {
          "output_type": "stream",
          "text": [
            "**Enter  name**sfsfs\n",
            "enter age25\n",
            "Your name is: sfsfs Your age is: 25\n"
          ],
          "name": "stdout"
        }
      ]
    },
    {
      "cell_type": "code",
      "metadata": {
        "id": "vPtYr45RkN-1",
        "colab_type": "code",
        "outputId": "127d9f43-0c9a-487a-9c4c-5642ce1b81c3",
        "colab": {
          "base_uri": "https://localhost:8080/",
          "height": 119
        }
      },
      "source": [
        "X= int(input(\"enter the value of X : \"))\n",
        "Y= int(input (\"enter the value of Y : \"))\n",
        "print(\"addition of X and Y :\",X+Y)\n",
        "\n",
        "print(\" multiplication of X and Y :\",X*Y)\n",
        "\n",
        "print(\"subtraction of X and Y :\",X-Y)\n",
        "\n",
        "print(\"division of X and Y :\",X/Y)\n"
      ],
      "execution_count": 0,
      "outputs": [
        {
          "output_type": "stream",
          "text": [
            "enter the value of X : 100\n",
            "enter the value of Y : 500\n",
            "addition of X and Y : 600\n",
            " multiplication of X and Y : 50000\n",
            "subtraction of X and Y : -400\n",
            "division of X and Y : 0.2\n"
          ],
          "name": "stdout"
        }
      ]
    },
    {
      "cell_type": "markdown",
      "metadata": {
        "id": "tjfmqp_Um73K",
        "colab_type": "text"
      },
      "source": [
        "#Funadamental dataypes \n",
        "\n",
        "* int \n",
        "* float\n",
        "* complex\n",
        "* boolean\n",
        "* string\n",
        "\n",
        "\n"
      ]
    },
    {
      "cell_type": "code",
      "metadata": {
        "id": "JOdE_QtYnUyq",
        "colab_type": "code",
        "outputId": "94d09fdf-e7ba-4579-b3af-43ff388c3cb7",
        "colab": {
          "base_uri": "https://localhost:8080/",
          "height": 68
        }
      },
      "source": [
        "x = 12\n",
        "y=20.2\n",
        "z= 5+6j\n",
        "print(type(x))\n",
        "print(type(y))\n",
        "print(type(z))\n"
      ],
      "execution_count": 0,
      "outputs": [
        {
          "output_type": "stream",
          "text": [
            "<class 'int'>\n",
            "<class 'float'>\n",
            "<class 'complex'>\n"
          ],
          "name": "stdout"
        }
      ]
    },
    {
      "cell_type": "code",
      "metadata": {
        "id": "B9a5uuT5oPGs",
        "colab_type": "code",
        "outputId": "7c3e194e-3678-4c45-f284-d0bd7edcc7bc",
        "colab": {
          "base_uri": "https://localhost:8080/",
          "height": 34
        }
      },
      "source": [
        "c=complex(2,5)\n",
        "print(c)\n"
      ],
      "execution_count": 0,
      "outputs": [
        {
          "output_type": "stream",
          "text": [
            "(2+5j)\n"
          ],
          "name": "stdout"
        }
      ]
    },
    {
      "cell_type": "code",
      "metadata": {
        "id": "IXMyay3Kpu5g",
        "colab_type": "code",
        "outputId": "09283433-3c33-493a-d78a-7fdf26f7f9be",
        "colab": {
          "base_uri": "https://localhost:8080/",
          "height": 85
        }
      },
      "source": [
        "c1=5+4j\n",
        "c2=6+7j\n",
        "print(\"addition of complex values\", c1+c2)\n",
        "print(\"subtraction of complex values\", c1-c2)\n",
        "print(\"a=multiplication of complex values\", c1*c2)\n",
        "print(\"division of complex values\", c1/c2)\n"
      ],
      "execution_count": 0,
      "outputs": [
        {
          "output_type": "stream",
          "text": [
            "addition of complex values (11+11j)\n",
            "subtraction of complex values (-1-3j)\n",
            "a=multiplication of complex values (2+59j)\n",
            "division of complex values (0.6823529411764705-0.12941176470588237j)\n"
          ],
          "name": "stdout"
        }
      ]
    },
    {
      "cell_type": "code",
      "metadata": {
        "id": "0h-rAjvjqXmt",
        "colab_type": "code",
        "outputId": "abbe870b-d1be-4522-f2fc-2658e15b3386",
        "colab": {
          "base_uri": "https://localhost:8080/",
          "height": 51
        }
      },
      "source": [
        "#boolean\n",
        "x=6\n",
        "y=7\n",
        "x < y\n",
        "\n",
        "#string \n",
        "s1=\"abd\"\n",
        "s2=\"dfg\"\n",
        "print(type(s1))\n",
        "print(type(s2))\n"
      ],
      "execution_count": 0,
      "outputs": [
        {
          "output_type": "stream",
          "text": [
            "<class 'str'>\n",
            "<class 'str'>\n"
          ],
          "name": "stdout"
        }
      ]
    },
    {
      "cell_type": "code",
      "metadata": {
        "id": "jE4qNkCtsj9T",
        "colab_type": "code",
        "outputId": "36164636-d8e9-46f8-c925-0a19a700a3c2",
        "colab": {
          "base_uri": "https://localhost:8080/",
          "height": 68
        }
      },
      "source": [
        "i=100\n",
        "print(type(i))\n",
        "s1=str(i)\n",
        "print(type(s1))\n",
        "f1=float(i)\n",
        "print(type(f1))\n"
      ],
      "execution_count": 0,
      "outputs": [
        {
          "output_type": "stream",
          "text": [
            "<class 'int'>\n",
            "<class 'str'>\n",
            "<class 'float'>\n"
          ],
          "name": "stdout"
        }
      ]
    },
    {
      "cell_type": "code",
      "metadata": {
        "id": "jIOq5fGgtj5b",
        "colab_type": "code",
        "outputId": "aae9cb82-3708-4773-9a90-6b6c6d887d88",
        "colab": {
          "base_uri": "https://localhost:8080/",
          "height": 34
        }
      },
      "source": [
        "#lenght\n",
        "a= \"abcd\"\n",
        "print(len(str(a)))"
      ],
      "execution_count": 0,
      "outputs": [
        {
          "output_type": "stream",
          "text": [
            "4\n"
          ],
          "name": "stdout"
        }
      ]
    },
    {
      "cell_type": "code",
      "metadata": {
        "id": "Y2fM-fwNuUQW",
        "colab_type": "code",
        "outputId": "1c0ecfa9-6122-4ad5-eea5-b14e8608d6a8",
        "colab": {
          "base_uri": "https://localhost:8080/",
          "height": 68
        }
      },
      "source": [
        "n1= 100 #single variable\n",
        "a=b=c=20 #multiple variable assignment\n",
        "a1,b1,c1 = 123,234,345\n",
        "print(n1)\n",
        "print(a,b,c)\n",
        "print(a1,b1,c1)"
      ],
      "execution_count": 0,
      "outputs": [
        {
          "output_type": "stream",
          "text": [
            "100\n",
            "20 20 20\n",
            "123 234 345\n"
          ],
          "name": "stdout"
        }
      ]
    },
    {
      "cell_type": "markdown",
      "metadata": {
        "id": "aADivSjpvh66",
        "colab_type": "text"
      },
      "source": [
        "# precendence of Arth operators\n",
        "* paranthesis\n",
        "* power\n",
        "* Multiplication\n",
        "* Addition"
      ]
    },
    {
      "cell_type": "code",
      "metadata": {
        "id": "CzY5qc_7v887",
        "colab_type": "code",
        "outputId": "bd092170-f64c-431e-e87b-b2f6161a9120",
        "colab": {
          "base_uri": "https://localhost:8080/",
          "height": 34
        }
      },
      "source": [
        "x= 1+2 ** 3/4*5\n",
        "print(x)\n"
      ],
      "execution_count": 0,
      "outputs": [
        {
          "output_type": "stream",
          "text": [
            "11.0\n"
          ],
          "name": "stdout"
        }
      ]
    },
    {
      "cell_type": "markdown",
      "metadata": {
        "id": "oABLihbcyYbL",
        "colab_type": "text"
      },
      "source": [
        "#operators\n",
        "* arithmetic operators\n",
        "- -\n",
        "- *\n",
        "- /\n",
        "- %\n",
        "- **\n",
        "- //  \n",
        "- +\n"
      ]
    },
    {
      "cell_type": "markdown",
      "metadata": {
        "id": "Ns3AEHA7zter",
        "colab_type": "text"
      },
      "source": [
        "# Relational operators\n",
        "* == , !=,<,>,<=,>=\n"
      ]
    },
    {
      "cell_type": "markdown",
      "metadata": {
        "id": "2JQYFcLX3AYE",
        "colab_type": "text"
      },
      "source": [
        "#logical operators\n",
        "* and\n",
        "* or \n",
        "* not\n",
        " "
      ]
    },
    {
      "cell_type": "code",
      "metadata": {
        "id": "VvqnJ19j3H8k",
        "colab_type": "code",
        "outputId": "1dd3eb48-418e-4ab6-e616-ec3fef2e7cf5",
        "colab": {
          "base_uri": "https://localhost:8080/",
          "height": 68
        }
      },
      "source": [
        "i=100\n",
        "a1=(i>15) and (i>76)\n",
        "a2=(i>567) or (i>3456)\n",
        "print(a1)\n",
        "print(a2)\n",
        "print(not i)"
      ],
      "execution_count": 0,
      "outputs": [
        {
          "output_type": "stream",
          "text": [
            "True\n",
            "False\n",
            "False\n"
          ],
          "name": "stdout"
        }
      ]
    },
    {
      "cell_type": "markdown",
      "metadata": {
        "id": "cqE2I5084T5c",
        "colab_type": "text"
      },
      "source": [
        "#Membership operator\n",
        " * in\n",
        " * not in\n",
        " "
      ]
    },
    {
      "cell_type": "code",
      "metadata": {
        "id": "tQfMmZ034jSW",
        "colab_type": "code",
        "outputId": "1fa17332-291d-4989-a3e0-5916c3250102",
        "colab": {
          "base_uri": "https://localhost:8080/",
          "height": 51
        }
      },
      "source": [
        "str1= \"abc\"\n",
        "print('a' in str1)\n",
        "print('a' not in str1)"
      ],
      "execution_count": 0,
      "outputs": [
        {
          "output_type": "stream",
          "text": [
            "True\n",
            "False\n"
          ],
          "name": "stdout"
        }
      ]
    },
    {
      "cell_type": "markdown",
      "metadata": {
        "id": "uG3zO5vg69mz",
        "colab_type": "text"
      },
      "source": [
        "#control flow statement\n",
        "* conditional statement\n",
        "* looping statement\n",
        "* if-else statement\n",
        "* syntax\n",
        "\n",
        "    if condition :\n",
        "                  statements\n",
        "    else         \n",
        "         statements\n",
        "\n",
        "         "
      ]
    },
    {
      "cell_type": "code",
      "metadata": {
        "id": "ec2yZvvf7tFG",
        "colab_type": "code",
        "outputId": "75c0bfb9-608d-4800-9cfc-b35b701bc032",
        "colab": {
          "base_uri": "https://localhost:8080/",
          "height": 51
        }
      },
      "source": [
        "#check the given number is even or odd\n",
        "n= int(input(\"enter a number\"))\n",
        "if n%2 == 0:\n",
        "     print(\"even\")\n",
        "else:\n",
        "    print(\"odd\")     "
      ],
      "execution_count": 0,
      "outputs": [
        {
          "output_type": "stream",
          "text": [
            "enter a number5\n",
            "odd\n"
          ],
          "name": "stdout"
        }
      ]
    },
    {
      "cell_type": "code",
      "metadata": {
        "id": "MKRaT96d8Pu_",
        "colab_type": "code",
        "outputId": "814c1029-f373-451c-a5fb-f3a72fe15a6d",
        "colab": {
          "base_uri": "https://localhost:8080/",
          "height": 51
        }
      },
      "source": [
        "#check the given number is perfectly multiple of 3 and 5\n",
        "n= int(input(\"enter a number : \"))\n",
        "if n%3== 0 and n%5==0:\n",
        "                    print(\"YES\")\n",
        "else:\n",
        "    print(\"NO\")     "
      ],
      "execution_count": 0,
      "outputs": [
        {
          "output_type": "stream",
          "text": [
            "enter a number : 31\n",
            "NO\n"
          ],
          "name": "stdout"
        }
      ]
    },
    {
      "cell_type": "code",
      "metadata": {
        "id": "plguXbE7-5F6",
        "colab_type": "code",
        "outputId": "7d289d21-ef84-4e78-eb23-b2189fba114f",
        "colab": {
          "base_uri": "https://localhost:8080/",
          "height": 51
        }
      },
      "source": [
        "#check the given number is positive , negative or zero\n",
        "A=int(input(\"enter the number\"))\n",
        "if A>0: \n",
        "      print(\"the given number is positive\")\n",
        "elif A<0 :\n",
        "     print(\"the given number is negative\")\n",
        "else :\n",
        "     print(\"the given number is zero\")\n",
        "\n"
      ],
      "execution_count": 0,
      "outputs": [
        {
          "output_type": "stream",
          "text": [
            "enter the number-10\n",
            "the given number is negative\n"
          ],
          "name": "stdout"
        }
      ]
    },
    {
      "cell_type": "code",
      "metadata": {
        "id": "_3fPFAYbDLDQ",
        "colab_type": "code",
        "colab": {}
      },
      "source": [
        "#"
      ],
      "execution_count": 0,
      "outputs": []
    }
  ]
}